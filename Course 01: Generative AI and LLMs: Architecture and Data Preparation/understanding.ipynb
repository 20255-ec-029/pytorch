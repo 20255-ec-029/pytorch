{
 "cells": [
  {
   "cell_type": "code",
   "execution_count": 2,
   "metadata": {},
   "outputs": [
    {
     "name": "stdout",
     "output_type": "stream",
     "text": [
      "2.0.1+cu117\n",
      "0.15.2+cpu\n",
      "0.6.1\n"
     ]
    }
   ],
   "source": [
    "# from torchtext.vocab import build_vocab_from_iterator\n",
    "import torch\n",
    "import torchtext\n",
    "import torchdata\n",
    "print(torch.__version__)       \n",
    "print(torchtext.__version__)   \n",
    "print(torchdata.__version__)   "
   ]
  },
  {
   "cell_type": "markdown",
   "metadata": {},
   "source": [
    "Tokenization & Indexing"
   ]
  },
  {
   "cell_type": "code",
   "execution_count": 7,
   "metadata": {},
   "outputs": [
    {
     "name": "stdout",
     "output_type": "stream",
     "text": [
      "introduction 5\n",
      "to 10\n",
      "nlp 1\n"
     ]
    }
   ],
   "source": [
    "# Applies the tokenizer to the text to get the tokens as a list\n",
    "from torchtext.data.utils import get_tokenizer\n",
    "tokenizer = get_tokenizer(\"basic_english\")\n",
    "\n",
    "dataset = [\n",
    "    (1,\"Introduction to NLP\"),\n",
    "    (2,\"Basics of PyTorch\"),\n",
    "    (1,\"NLP Techniques for Text Classification\")]\n",
    "\n",
    "# Takes a data iterator as input, processes text from the iterator and yields the tokenized output individually\n",
    "def yield_tokens(data_iter):\n",
    "    for _,text in data_iter:\n",
    "        yield tokenizer(text)\n",
    "\n",
    "# Creates an iterator\n",
    "my_iterator = yield_tokens(dataset)\n",
    "\n",
    "# Fetches the next set of tokens from the data set\n",
    "\n",
    "\n",
    "# Converts tokens to indices and sets <unk> as the default word if a word is not found in the vocabulary\n",
    "from torchtext.vocab import build_vocab_from_iterator\n",
    "vocab = build_vocab_from_iterator(yield_tokens(dataset), specials=[\"<unk>\"])\n",
    "vocab.set_default_index(vocab[\"<unk>\"])\n",
    "\n",
    "# print(next(my_iterator))\n",
    "\n",
    "for token in next(my_iterator):\n",
    "    print(token,vocab[token] )        "
   ]
  },
  {
   "cell_type": "markdown",
   "metadata": {},
   "source": [
    "### Understanding `build_vocab_from_iterator`"
   ]
  },
  {
   "cell_type": "code",
   "execution_count": 35,
   "metadata": {},
   "outputs": [
    {
     "name": "stdout",
     "output_type": "stream",
     "text": [
      "dict of all vocabs with index: {'goodbye': 2, 'world': 1, 'hello': 3, '<unk>': 0}\n",
      "strings of all vocabs: ['<unk>', 'world', 'goodbye', 'hello']\n",
      "to get only index: [3, 1, 0]\n"
     ]
    }
   ],
   "source": [
    "from torchtext.vocab import build_vocab_from_iterator\n",
    "\n",
    "### a sample sentences\n",
    "sentences = [[\"hello\", \"world\"], [\"goodbye\", \"world\"]]\n",
    "\n",
    "###---------- Importance of specials in build_vocab_from_iterator ------------###\n",
    "### Build vocabulary with an <unk> token\n",
    "vocab = build_vocab_from_iterator(sentences, specials=[\"<unk>\"]) \n",
    "# specials will any OOV from sentences into <unk>\n",
    "\n",
    "###---------- Importance of set_default_index in build_vocab_from_iterator ------------###\n",
    "### Set the default index to <unk>'s index i.e. it will set 0 to these <unk> tokens by default.\n",
    "vocab.set_default_index(vocab[\"<unk>\"]) \n",
    "# if set_default_index, is not done, you get error: RuntimeError: Token unknown not found and default index is not set\n",
    "\n",
    "### print dict of all vocabs:\n",
    "print(f\"dict of all vocabs with index: {vocab.get_stoi()}\" )\n",
    "print(f\"strings of all vocabs: {vocab.get_itos()}\" )\n",
    "\n",
    "### Test token-to-index conversion\n",
    "print(f\"to get only index: { vocab(['hello', 'world', 'unknown'])}\")\n",
    "# print(vocab([\"hello\", \"world\", \"unknown\"]))  # Output: [1, 2, 0]"
   ]
  },
  {
   "cell_type": "markdown",
   "metadata": {},
   "source": [
    "Filtering `Out of vocab` OOV tokens"
   ]
  }
 ],
 "metadata": {
  "kernelspec": {
   "display_name": ".venv",
   "language": "python",
   "name": "python3"
  },
  "language_info": {
   "codemirror_mode": {
    "name": "ipython",
    "version": 3
   },
   "file_extension": ".py",
   "mimetype": "text/x-python",
   "name": "python",
   "nbconvert_exporter": "python",
   "pygments_lexer": "ipython3",
   "version": "3.10.15"
  }
 },
 "nbformat": 4,
 "nbformat_minor": 2
}
